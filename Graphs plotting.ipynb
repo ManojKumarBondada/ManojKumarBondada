{
 "cells": [
  {
   "cell_type": "markdown",
   "id": "eb98846d",
   "metadata": {},
   "source": [
    "## Name: Manoj Kumar and Kandarp Chaudhary\n",
    "## Roll No.: D21008 & D21016"
   ]
  },
  {
   "cell_type": "markdown",
   "id": "7e6d7b81",
   "metadata": {},
   "source": [
    "* <b>Problem Statemeant:</b>\n",
    "As we know, EDA is the initial and the most crucial step for any Data Science project and it's very time consuming. So if we automate some of the tasks which needs least human intervention that would buy us more time for understanding the data. Plotting the graphs is one of those task which requires very less human intervention. So in this project we aim to automate plotting of the graphs with the help of python.\n",
    "\n",
    "\n",
    "* <b>Objective:</b>\n",
    "We would like to create a function 'graphs' which would automate the plotting of box plot and histogram for all the numerical columns of the dataframe using which we can study the spread of the data. For non-numeric columns we would plot the bar plot using which we can study the frequencies of individual categories in it. This function will have three arguments of which two will be optional. First argument will be a data frame, second argument should contain which columns you want to plot from this data frame and the third argument should contain the directory where the output images are to be saved. By default if columns are not mentioned by user then graphs for all the columns will be plotted and if directory is not mentioned bty the user, the images will be saved in the current directory.\n",
    "\n",
    "\n",
    "* <b>Expectation:</b>\n",
    "The output of the function should provide images in png format and each image should contain the box plot and histogram for the numeric columns and a bar chart for non-numeric columns of the dataframe. Each image file would be named as per the column header. All the graphs should contain proper axis labels and chart titles."
   ]
  },
  {
   "cell_type": "code",
   "execution_count": 4,
   "id": "4e1eb24f",
   "metadata": {
    "scrolled": true
   },
   "outputs": [
    {
     "data": {
      "text/html": [
       "<div>\n",
       "<style scoped>\n",
       "    .dataframe tbody tr th:only-of-type {\n",
       "        vertical-align: middle;\n",
       "    }\n",
       "\n",
       "    .dataframe tbody tr th {\n",
       "        vertical-align: top;\n",
       "    }\n",
       "\n",
       "    .dataframe thead th {\n",
       "        text-align: right;\n",
       "    }\n",
       "</style>\n",
       "<table border=\"1\" class=\"dataframe\">\n",
       "  <thead>\n",
       "    <tr style=\"text-align: right;\">\n",
       "      <th></th>\n",
       "      <th>sepal_length</th>\n",
       "      <th>sepal_width</th>\n",
       "      <th>petal_length</th>\n",
       "      <th>petal_width</th>\n",
       "      <th>species</th>\n",
       "    </tr>\n",
       "  </thead>\n",
       "  <tbody>\n",
       "    <tr>\n",
       "      <th>0</th>\n",
       "      <td>5.1</td>\n",
       "      <td>3.5</td>\n",
       "      <td>1.4</td>\n",
       "      <td>0.2</td>\n",
       "      <td>setosa</td>\n",
       "    </tr>\n",
       "    <tr>\n",
       "      <th>1</th>\n",
       "      <td>4.9</td>\n",
       "      <td>3.0</td>\n",
       "      <td>1.4</td>\n",
       "      <td>0.2</td>\n",
       "      <td>setosa</td>\n",
       "    </tr>\n",
       "    <tr>\n",
       "      <th>2</th>\n",
       "      <td>4.7</td>\n",
       "      <td>3.2</td>\n",
       "      <td>1.3</td>\n",
       "      <td>0.2</td>\n",
       "      <td>setosa</td>\n",
       "    </tr>\n",
       "    <tr>\n",
       "      <th>3</th>\n",
       "      <td>4.6</td>\n",
       "      <td>3.1</td>\n",
       "      <td>1.5</td>\n",
       "      <td>0.2</td>\n",
       "      <td>setosa</td>\n",
       "    </tr>\n",
       "    <tr>\n",
       "      <th>4</th>\n",
       "      <td>5.0</td>\n",
       "      <td>3.6</td>\n",
       "      <td>1.4</td>\n",
       "      <td>0.2</td>\n",
       "      <td>setosa</td>\n",
       "    </tr>\n",
       "  </tbody>\n",
       "</table>\n",
       "</div>"
      ],
      "text/plain": [
       "   sepal_length  sepal_width  petal_length  petal_width species\n",
       "0           5.1          3.5           1.4          0.2  setosa\n",
       "1           4.9          3.0           1.4          0.2  setosa\n",
       "2           4.7          3.2           1.3          0.2  setosa\n",
       "3           4.6          3.1           1.5          0.2  setosa\n",
       "4           5.0          3.6           1.4          0.2  setosa"
      ]
     },
     "execution_count": 4,
     "metadata": {},
     "output_type": "execute_result"
    }
   ],
   "source": [
    "#please change the path according to your directory\n",
    "df1 = pd.read_excel(r\"C:\\Users\\Manoj\\praxis term 1\\IML\\iris.xlsx\")\n",
    "df1.head()"
   ]
  },
  {
   "cell_type": "code",
   "execution_count": 7,
   "id": "a634ef8e",
   "metadata": {},
   "outputs": [],
   "source": [
    "graphs(df1)"
   ]
  },
  {
   "cell_type": "code",
   "execution_count": 8,
   "id": "2e9ad9f8",
   "metadata": {
    "scrolled": false
   },
   "outputs": [
    {
     "data": {
      "text/html": [
       "<div>\n",
       "<style scoped>\n",
       "    .dataframe tbody tr th:only-of-type {\n",
       "        vertical-align: middle;\n",
       "    }\n",
       "\n",
       "    .dataframe tbody tr th {\n",
       "        vertical-align: top;\n",
       "    }\n",
       "\n",
       "    .dataframe thead th {\n",
       "        text-align: right;\n",
       "    }\n",
       "</style>\n",
       "<table border=\"1\" class=\"dataframe\">\n",
       "  <thead>\n",
       "    <tr style=\"text-align: right;\">\n",
       "      <th></th>\n",
       "      <th>Car</th>\n",
       "      <th>MPG</th>\n",
       "      <th>Cylinders</th>\n",
       "      <th>Displacement</th>\n",
       "      <th>Horsepower</th>\n",
       "      <th>Weight</th>\n",
       "      <th>Acceleration</th>\n",
       "      <th>Model</th>\n",
       "      <th>Origin</th>\n",
       "    </tr>\n",
       "  </thead>\n",
       "  <tbody>\n",
       "    <tr>\n",
       "      <th>0</th>\n",
       "      <td>Chevrolet Chevelle Malibu</td>\n",
       "      <td>18.0</td>\n",
       "      <td>8</td>\n",
       "      <td>307.0</td>\n",
       "      <td>130</td>\n",
       "      <td>3504</td>\n",
       "      <td>12.0</td>\n",
       "      <td>70</td>\n",
       "      <td>US</td>\n",
       "    </tr>\n",
       "    <tr>\n",
       "      <th>1</th>\n",
       "      <td>Buick Skylark 320</td>\n",
       "      <td>15.0</td>\n",
       "      <td>8</td>\n",
       "      <td>350.0</td>\n",
       "      <td>165</td>\n",
       "      <td>3693</td>\n",
       "      <td>11.5</td>\n",
       "      <td>70</td>\n",
       "      <td>US</td>\n",
       "    </tr>\n",
       "    <tr>\n",
       "      <th>2</th>\n",
       "      <td>Plymouth Satellite</td>\n",
       "      <td>18.0</td>\n",
       "      <td>8</td>\n",
       "      <td>318.0</td>\n",
       "      <td>150</td>\n",
       "      <td>3436</td>\n",
       "      <td>11.0</td>\n",
       "      <td>70</td>\n",
       "      <td>US</td>\n",
       "    </tr>\n",
       "    <tr>\n",
       "      <th>3</th>\n",
       "      <td>AMC Rebel SST</td>\n",
       "      <td>16.0</td>\n",
       "      <td>8</td>\n",
       "      <td>304.0</td>\n",
       "      <td>150</td>\n",
       "      <td>3433</td>\n",
       "      <td>12.0</td>\n",
       "      <td>70</td>\n",
       "      <td>US</td>\n",
       "    </tr>\n",
       "    <tr>\n",
       "      <th>4</th>\n",
       "      <td>Ford Torino</td>\n",
       "      <td>17.0</td>\n",
       "      <td>8</td>\n",
       "      <td>302.0</td>\n",
       "      <td>140</td>\n",
       "      <td>3449</td>\n",
       "      <td>10.5</td>\n",
       "      <td>70</td>\n",
       "      <td>US</td>\n",
       "    </tr>\n",
       "  </tbody>\n",
       "</table>\n",
       "</div>"
      ],
      "text/plain": [
       "                         Car   MPG  Cylinders  Displacement  Horsepower  \\\n",
       "0  Chevrolet Chevelle Malibu  18.0          8         307.0         130   \n",
       "1          Buick Skylark 320  15.0          8         350.0         165   \n",
       "2         Plymouth Satellite  18.0          8         318.0         150   \n",
       "3              AMC Rebel SST  16.0          8         304.0         150   \n",
       "4                Ford Torino  17.0          8         302.0         140   \n",
       "\n",
       "   Weight  Acceleration  Model Origin  \n",
       "0    3504          12.0     70     US  \n",
       "1    3693          11.5     70     US  \n",
       "2    3436          11.0     70     US  \n",
       "3    3433          12.0     70     US  \n",
       "4    3449          10.5     70     US  "
      ]
     },
     "execution_count": 8,
     "metadata": {},
     "output_type": "execute_result"
    }
   ],
   "source": [
    "df2 = pd.read_csv(r\"C:\\Users\\Manoj\\praxis term 1\\IML\\cars.csv\")\n",
    "df2.head()"
   ]
  },
  {
   "cell_type": "code",
   "execution_count": 6,
   "id": "98d4f65c",
   "metadata": {},
   "outputs": [],
   "source": [
    "graphs(df2,columns=[\"MPG\",\"Origin\",\"Weight\"])"
   ]
  },
  {
   "cell_type": "code",
   "execution_count": 7,
   "id": "00afc7fc",
   "metadata": {},
   "outputs": [],
   "source": [
    "graphs(df2,directory=\"C:\\\\Users\\\\Manoj\\\\OneDrive\\\\Desktop\\\\test\\\\\")"
   ]
  },
  {
   "cell_type": "code",
   "execution_count": 1,
   "id": "ff724812",
   "metadata": {},
   "outputs": [],
   "source": [
    "#importing necessary libraries\n",
    "import pandas as pd\n",
    "import numpy as np\n",
    "import matplotlib.pyplot as plt\n",
    "import os"
   ]
  },
  {
   "cell_type": "code",
   "execution_count": 2,
   "id": "2a8af35a",
   "metadata": {},
   "outputs": [],
   "source": [
    "def graphs(data,columns=None,directory=os.getcwd()+'\\\\'):   #function which would plot box plot and histograms for all the quantitative data\n",
    "    if columns==None:                                       #if user doesn't provide column names then obtaining same from data frame\n",
    "        columns = list(data.columns)\n",
    "    df = data[columns]                                      #defining data frame which is to be used for making graphs\n",
    "    numeric = df.select_dtypes(include='number')            #making seperate dataframe for the numeric columns\n",
    "    string = df.select_dtypes(['object'])                   #making seperate dataframe for the string columns\n",
    "    for i in range(numeric.shape[1]):                       #running a for loop by taking the number of columns as it's range\n",
    "        fig = plt.figure(figsize=(8,8),tight_layout = 1)    #plotting a figure\n",
    "        fig1 = fig.add_subplot(2,1,1)                       #creating subplots to include boxplot and histogram in one image\n",
    "        plt.boxplot(numeric.iloc[:,i],vert=0,notch = 1)       #creating the boxplot\n",
    "        plt.xlabel(numeric.columns[i])                        #assigning X-axis label\n",
    "        plt.title('Boxplot of %s'%numeric.columns[i])         #assigning box plot title\n",
    "        fig2 = fig.add_subplot(2,1,2)                       #creating subplots to include boxplot and histogram in one image\n",
    "        plt.hist(numeric.iloc[:,i],edgecolor = \"black\")       #creating the histogram\n",
    "        plt.xlabel(numeric.columns[i])                        #assigning X-axis label\n",
    "        plt.ylabel('Frequency')                             #assigning Y-axis label\n",
    "        plt.title('Histogram of %s'%numeric.columns[i])       #assigning histogram title\n",
    "        fig.savefig(directory+numeric.columns[i]+\".png\")      #saving the figure in png format\n",
    "        plt.close(fig)                                      #closing the figure as i don't want to display it here   \n",
    "    c = 0                                                   #counnter for while loop\n",
    "    while c<np.size(string.columns):                        #iterating through all string columns of dataframe\n",
    "        plt.figure(figsize=(8,8))                           #difining the figure size\n",
    "        string.iloc[:,c].value_counts().plot(kind='bar', edgecolor='black', color='DarkOrange') #creating the bar chart\n",
    "        plt.xticks(rotation = 0)                            #making X-axis labels horizontal\n",
    "        plt.title(\"Bar Chart of \"+string.columns[c])        #assigning histogram title\n",
    "        plt.xlabel(string.columns[c])                       #assigning X-axis label\n",
    "        plt.ylabel(\"Frequency\")                             #assigning Y-axis label\n",
    "        plt.savefig(directory+string.columns[c]+\".png\")     #saving the bar chart at user specified directory as png file\n",
    "        plt.close()                                         #closing the figure as we don't want to display it here\n",
    "        c+=1                                                #incrementing the loop counter"
   ]
  }
 ],
 "metadata": {
  "kernelspec": {
   "display_name": "Python 3",
   "language": "python",
   "name": "python3"
  },
  "language_info": {
   "codemirror_mode": {
    "name": "ipython",
    "version": 3
   },
   "file_extension": ".py",
   "mimetype": "text/x-python",
   "name": "python",
   "nbconvert_exporter": "python",
   "pygments_lexer": "ipython3",
   "version": "3.8.8"
  }
 },
 "nbformat": 4,
 "nbformat_minor": 5
}
