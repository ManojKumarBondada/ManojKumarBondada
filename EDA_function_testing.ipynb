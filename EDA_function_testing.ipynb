{
 "cells": [
  {
   "cell_type": "markdown",
   "id": "72f5bda7",
   "metadata": {},
   "source": [
    "### Objective - Automate The EDA Process"
   ]
  },
  {
   "cell_type": "code",
   "execution_count": 1,
   "id": "bd7392f4",
   "metadata": {},
   "outputs": [],
   "source": [
    "import numpy as np    # importing numpy library\n",
    "import pandas as pd   # importing pandas library\n",
    "import os             # importing OS"
   ]
  },
  {
   "cell_type": "code",
   "execution_count": 2,
   "id": "a0956da8",
   "metadata": {},
   "outputs": [],
   "source": [
    "os.chdir(r\"C:\\Users\\Manoj\\praxis term 1\\Python\\Functions\")    #changing the directory"
   ]
  },
  {
   "cell_type": "code",
   "execution_count": 3,
   "id": "b83fefbd",
   "metadata": {},
   "outputs": [],
   "source": [
    "import EDA                                            #importing the stored user defined function"
   ]
  },
  {
   "cell_type": "code",
   "execution_count": 4,
   "id": "b72b9dac",
   "metadata": {},
   "outputs": [],
   "source": [
    "Data = pd.read_csv(r\"C:\\Users\\Manoj\\praxis term 1\\IML\\cars1.csv\")  #reading the file"
   ]
  },
  {
   "cell_type": "markdown",
   "id": "f0860093",
   "metadata": {},
   "source": [
    "**The below EDA Function will return Statistics about the given Data based on the inputs Given.**\n",
    "\n",
    "\n",
    "**Mandatory Parameters -**\n",
    "\n",
    "1 .*File - Dataset on which EDA to be performed.*\n",
    "\n",
    "**Optional Parameters -**\n",
    "\n",
    "2 .*Correlation_check - would return a correlation matrix for all numeric columns in the data set.*\n",
    "\n",
    "3 .*null_values - would check and return the sum of null values present for all the variables in the Dataset.*\n",
    "\n",
    "4 .*columns_with_correlation - this parameter will return a correlation matrix only for those variables which have +ve or -ve correlation user can specify the threshold for correlation coefficient.*\n",
    "\n",
    "5 .*correlation threshold - using this user can alter the threshold for correlation ie. applicable for parameter \"4\" - Default threshold = 0.5*\n",
    "\n",
    "**If no optional parameters are given by default it would return the descreptive statistics of all numeric columns in the Dataset.**"
   ]
  },
  {
   "cell_type": "markdown",
   "id": "af0ea19a",
   "metadata": {},
   "source": [
    "  "
   ]
  },
  {
   "cell_type": "markdown",
   "id": "f0a01b30",
   "metadata": {},
   "source": [
    "  "
   ]
  },
  {
   "cell_type": "markdown",
   "id": "3c32d0cf",
   "metadata": {},
   "source": [
    "**1 .Testing The function with all the parameters -**"
   ]
  },
  {
   "cell_type": "code",
   "execution_count": 5,
   "id": "b84fd11a",
   "metadata": {},
   "outputs": [],
   "source": [
    "#using the EDA function\n",
    "\n",
    "descreptive_stats, total_correlation, total_null_values, columns_with_correlation  = EDA.EDA( Data,  #data for which EDA\n",
    "    Correlation_check=1,            #correlation check (1 - yes) for all numerci columns                      to be done\n",
    "    null_values=1,                  #checking null values(1 - yes) for all columns in dataset    \n",
    "    columns_with_correlation=1,     #checking correlation for variables having +ve or -ve co-rrelation based on input threshold\n",
    "    correlation_threshold=0.7)      #setting up the threshold for correlation coeffecient,if not given default threshold = +-0.5"
   ]
  },
  {
   "cell_type": "code",
   "execution_count": 6,
   "id": "a3b8e563",
   "metadata": {},
   "outputs": [
    {
     "data": {
      "text/html": [
       "<div>\n",
       "<style scoped>\n",
       "    .dataframe tbody tr th:only-of-type {\n",
       "        vertical-align: middle;\n",
       "    }\n",
       "\n",
       "    .dataframe tbody tr th {\n",
       "        vertical-align: top;\n",
       "    }\n",
       "\n",
       "    .dataframe thead th {\n",
       "        text-align: right;\n",
       "    }\n",
       "</style>\n",
       "<table border=\"1\" class=\"dataframe\">\n",
       "  <thead>\n",
       "    <tr style=\"text-align: right;\">\n",
       "      <th></th>\n",
       "      <th>MPG</th>\n",
       "      <th>Cylinders</th>\n",
       "      <th>Displacement</th>\n",
       "      <th>Horsepower</th>\n",
       "      <th>Weight</th>\n",
       "      <th>Acceleration</th>\n",
       "      <th>Model</th>\n",
       "    </tr>\n",
       "  </thead>\n",
       "  <tbody>\n",
       "    <tr>\n",
       "      <th>count</th>\n",
       "      <td>406.000000</td>\n",
       "      <td>406.000000</td>\n",
       "      <td>406.000000</td>\n",
       "      <td>406.000000</td>\n",
       "      <td>406.000000</td>\n",
       "      <td>406.000000</td>\n",
       "      <td>406.000000</td>\n",
       "    </tr>\n",
       "    <tr>\n",
       "      <th>mean</th>\n",
       "      <td>23.051232</td>\n",
       "      <td>5.475369</td>\n",
       "      <td>194.779557</td>\n",
       "      <td>103.529557</td>\n",
       "      <td>2979.413793</td>\n",
       "      <td>15.519704</td>\n",
       "      <td>75.921182</td>\n",
       "    </tr>\n",
       "    <tr>\n",
       "      <th>std</th>\n",
       "      <td>8.401777</td>\n",
       "      <td>1.712160</td>\n",
       "      <td>104.922458</td>\n",
       "      <td>40.520659</td>\n",
       "      <td>847.004328</td>\n",
       "      <td>2.803359</td>\n",
       "      <td>3.748737</td>\n",
       "    </tr>\n",
       "    <tr>\n",
       "      <th>min</th>\n",
       "      <td>0.000000</td>\n",
       "      <td>3.000000</td>\n",
       "      <td>68.000000</td>\n",
       "      <td>0.000000</td>\n",
       "      <td>1613.000000</td>\n",
       "      <td>8.000000</td>\n",
       "      <td>70.000000</td>\n",
       "    </tr>\n",
       "    <tr>\n",
       "      <th>25%</th>\n",
       "      <td>17.000000</td>\n",
       "      <td>4.000000</td>\n",
       "      <td>105.000000</td>\n",
       "      <td>75.000000</td>\n",
       "      <td>2226.500000</td>\n",
       "      <td>13.700000</td>\n",
       "      <td>73.000000</td>\n",
       "    </tr>\n",
       "    <tr>\n",
       "      <th>50%</th>\n",
       "      <td>22.350000</td>\n",
       "      <td>4.000000</td>\n",
       "      <td>151.000000</td>\n",
       "      <td>93.500000</td>\n",
       "      <td>2822.500000</td>\n",
       "      <td>15.500000</td>\n",
       "      <td>76.000000</td>\n",
       "    </tr>\n",
       "    <tr>\n",
       "      <th>75%</th>\n",
       "      <td>29.000000</td>\n",
       "      <td>8.000000</td>\n",
       "      <td>302.000000</td>\n",
       "      <td>129.000000</td>\n",
       "      <td>3618.250000</td>\n",
       "      <td>17.175000</td>\n",
       "      <td>79.000000</td>\n",
       "    </tr>\n",
       "    <tr>\n",
       "      <th>max</th>\n",
       "      <td>46.600000</td>\n",
       "      <td>8.000000</td>\n",
       "      <td>455.000000</td>\n",
       "      <td>230.000000</td>\n",
       "      <td>5140.000000</td>\n",
       "      <td>24.800000</td>\n",
       "      <td>82.000000</td>\n",
       "    </tr>\n",
       "  </tbody>\n",
       "</table>\n",
       "</div>"
      ],
      "text/plain": [
       "              MPG   Cylinders  Displacement  Horsepower       Weight  \\\n",
       "count  406.000000  406.000000    406.000000  406.000000   406.000000   \n",
       "mean    23.051232    5.475369    194.779557  103.529557  2979.413793   \n",
       "std      8.401777    1.712160    104.922458   40.520659   847.004328   \n",
       "min      0.000000    3.000000     68.000000    0.000000  1613.000000   \n",
       "25%     17.000000    4.000000    105.000000   75.000000  2226.500000   \n",
       "50%     22.350000    4.000000    151.000000   93.500000  2822.500000   \n",
       "75%     29.000000    8.000000    302.000000  129.000000  3618.250000   \n",
       "max     46.600000    8.000000    455.000000  230.000000  5140.000000   \n",
       "\n",
       "       Acceleration       Model  \n",
       "count    406.000000  406.000000  \n",
       "mean      15.519704   75.921182  \n",
       "std        2.803359    3.748737  \n",
       "min        8.000000   70.000000  \n",
       "25%       13.700000   73.000000  \n",
       "50%       15.500000   76.000000  \n",
       "75%       17.175000   79.000000  \n",
       "max       24.800000   82.000000  "
      ]
     },
     "execution_count": 6,
     "metadata": {},
     "output_type": "execute_result"
    }
   ],
   "source": [
    "descreptive_stats                    #descreptive statistics for all numeric columns"
   ]
  },
  {
   "cell_type": "code",
   "execution_count": 7,
   "id": "12dcbb8f",
   "metadata": {},
   "outputs": [
    {
     "data": {
      "text/html": [
       "<div>\n",
       "<style scoped>\n",
       "    .dataframe tbody tr th:only-of-type {\n",
       "        vertical-align: middle;\n",
       "    }\n",
       "\n",
       "    .dataframe tbody tr th {\n",
       "        vertical-align: top;\n",
       "    }\n",
       "\n",
       "    .dataframe thead th {\n",
       "        text-align: right;\n",
       "    }\n",
       "</style>\n",
       "<table border=\"1\" class=\"dataframe\">\n",
       "  <thead>\n",
       "    <tr style=\"text-align: right;\">\n",
       "      <th></th>\n",
       "      <th>MPG</th>\n",
       "      <th>Cylinders</th>\n",
       "      <th>Displacement</th>\n",
       "      <th>Horsepower</th>\n",
       "      <th>Weight</th>\n",
       "      <th>Acceleration</th>\n",
       "      <th>Model</th>\n",
       "    </tr>\n",
       "  </thead>\n",
       "  <tbody>\n",
       "    <tr>\n",
       "      <th>MPG</th>\n",
       "      <td>1.000000</td>\n",
       "      <td>-0.735563</td>\n",
       "      <td>-0.764277</td>\n",
       "      <td>-0.726670</td>\n",
       "      <td>-0.787510</td>\n",
       "      <td>0.424490</td>\n",
       "      <td>0.586234</td>\n",
       "    </tr>\n",
       "    <tr>\n",
       "      <th>Cylinders</th>\n",
       "      <td>-0.735563</td>\n",
       "      <td>1.000000</td>\n",
       "      <td>0.951787</td>\n",
       "      <td>0.823467</td>\n",
       "      <td>0.895220</td>\n",
       "      <td>-0.522452</td>\n",
       "      <td>-0.360762</td>\n",
       "    </tr>\n",
       "    <tr>\n",
       "      <th>Displacement</th>\n",
       "      <td>-0.764277</td>\n",
       "      <td>0.951787</td>\n",
       "      <td>1.000000</td>\n",
       "      <td>0.873758</td>\n",
       "      <td>0.932475</td>\n",
       "      <td>-0.557984</td>\n",
       "      <td>-0.381714</td>\n",
       "    </tr>\n",
       "    <tr>\n",
       "      <th>Horsepower</th>\n",
       "      <td>-0.726670</td>\n",
       "      <td>0.823467</td>\n",
       "      <td>0.873758</td>\n",
       "      <td>1.000000</td>\n",
       "      <td>0.840811</td>\n",
       "      <td>-0.682047</td>\n",
       "      <td>-0.419929</td>\n",
       "    </tr>\n",
       "    <tr>\n",
       "      <th>Weight</th>\n",
       "      <td>-0.787510</td>\n",
       "      <td>0.895220</td>\n",
       "      <td>0.932475</td>\n",
       "      <td>0.840811</td>\n",
       "      <td>1.000000</td>\n",
       "      <td>-0.430086</td>\n",
       "      <td>-0.315389</td>\n",
       "    </tr>\n",
       "    <tr>\n",
       "      <th>Acceleration</th>\n",
       "      <td>0.424490</td>\n",
       "      <td>-0.522452</td>\n",
       "      <td>-0.557984</td>\n",
       "      <td>-0.682047</td>\n",
       "      <td>-0.430086</td>\n",
       "      <td>1.000000</td>\n",
       "      <td>0.301992</td>\n",
       "    </tr>\n",
       "    <tr>\n",
       "      <th>Model</th>\n",
       "      <td>0.586234</td>\n",
       "      <td>-0.360762</td>\n",
       "      <td>-0.381714</td>\n",
       "      <td>-0.419929</td>\n",
       "      <td>-0.315389</td>\n",
       "      <td>0.301992</td>\n",
       "      <td>1.000000</td>\n",
       "    </tr>\n",
       "  </tbody>\n",
       "</table>\n",
       "</div>"
      ],
      "text/plain": [
       "                   MPG  Cylinders  Displacement  Horsepower    Weight  \\\n",
       "MPG           1.000000  -0.735563     -0.764277   -0.726670 -0.787510   \n",
       "Cylinders    -0.735563   1.000000      0.951787    0.823467  0.895220   \n",
       "Displacement -0.764277   0.951787      1.000000    0.873758  0.932475   \n",
       "Horsepower   -0.726670   0.823467      0.873758    1.000000  0.840811   \n",
       "Weight       -0.787510   0.895220      0.932475    0.840811  1.000000   \n",
       "Acceleration  0.424490  -0.522452     -0.557984   -0.682047 -0.430086   \n",
       "Model         0.586234  -0.360762     -0.381714   -0.419929 -0.315389   \n",
       "\n",
       "              Acceleration     Model  \n",
       "MPG               0.424490  0.586234  \n",
       "Cylinders        -0.522452 -0.360762  \n",
       "Displacement     -0.557984 -0.381714  \n",
       "Horsepower       -0.682047 -0.419929  \n",
       "Weight           -0.430086 -0.315389  \n",
       "Acceleration      1.000000  0.301992  \n",
       "Model             0.301992  1.000000  "
      ]
     },
     "execution_count": 7,
     "metadata": {},
     "output_type": "execute_result"
    }
   ],
   "source": [
    "total_correlation                   #correlation matrix for all the numeric columns"
   ]
  },
  {
   "cell_type": "code",
   "execution_count": 8,
   "id": "3485edce",
   "metadata": {},
   "outputs": [
    {
     "data": {
      "text/plain": [
       "Car             0\n",
       "MPG             0\n",
       "Cylinders       0\n",
       "Displacement    0\n",
       "Horsepower      0\n",
       "Weight          0\n",
       "Acceleration    0\n",
       "Model           0\n",
       "Origin          0\n",
       "dtype: int64"
      ]
     },
     "execution_count": 8,
     "metadata": {},
     "output_type": "execute_result"
    }
   ],
   "source": [
    "total_null_values                #checking null values for all columns in the dataset "
   ]
  },
  {
   "cell_type": "code",
   "execution_count": 9,
   "id": "f9c94f13",
   "metadata": {},
   "outputs": [
    {
     "data": {
      "text/html": [
       "<div>\n",
       "<style scoped>\n",
       "    .dataframe tbody tr th:only-of-type {\n",
       "        vertical-align: middle;\n",
       "    }\n",
       "\n",
       "    .dataframe tbody tr th {\n",
       "        vertical-align: top;\n",
       "    }\n",
       "\n",
       "    .dataframe thead th {\n",
       "        text-align: right;\n",
       "    }\n",
       "</style>\n",
       "<table border=\"1\" class=\"dataframe\">\n",
       "  <thead>\n",
       "    <tr style=\"text-align: right;\">\n",
       "      <th></th>\n",
       "      <th>Cylinders</th>\n",
       "      <th>Displacement</th>\n",
       "      <th>Horsepower</th>\n",
       "      <th>Weight</th>\n",
       "      <th>MPG</th>\n",
       "    </tr>\n",
       "  </thead>\n",
       "  <tbody>\n",
       "    <tr>\n",
       "      <th>Cylinders</th>\n",
       "      <td>1.000000</td>\n",
       "      <td>0.951787</td>\n",
       "      <td>0.823467</td>\n",
       "      <td>0.895220</td>\n",
       "      <td>-0.735563</td>\n",
       "    </tr>\n",
       "    <tr>\n",
       "      <th>Displacement</th>\n",
       "      <td>0.951787</td>\n",
       "      <td>1.000000</td>\n",
       "      <td>0.873758</td>\n",
       "      <td>0.932475</td>\n",
       "      <td>-0.764277</td>\n",
       "    </tr>\n",
       "    <tr>\n",
       "      <th>Horsepower</th>\n",
       "      <td>0.823467</td>\n",
       "      <td>0.873758</td>\n",
       "      <td>1.000000</td>\n",
       "      <td>0.840811</td>\n",
       "      <td>-0.726670</td>\n",
       "    </tr>\n",
       "    <tr>\n",
       "      <th>Weight</th>\n",
       "      <td>0.895220</td>\n",
       "      <td>0.932475</td>\n",
       "      <td>0.840811</td>\n",
       "      <td>1.000000</td>\n",
       "      <td>-0.787510</td>\n",
       "    </tr>\n",
       "    <tr>\n",
       "      <th>MPG</th>\n",
       "      <td>-0.735563</td>\n",
       "      <td>-0.764277</td>\n",
       "      <td>-0.726670</td>\n",
       "      <td>-0.787510</td>\n",
       "      <td>1.000000</td>\n",
       "    </tr>\n",
       "  </tbody>\n",
       "</table>\n",
       "</div>"
      ],
      "text/plain": [
       "              Cylinders  Displacement  Horsepower    Weight       MPG\n",
       "Cylinders      1.000000      0.951787    0.823467  0.895220 -0.735563\n",
       "Displacement   0.951787      1.000000    0.873758  0.932475 -0.764277\n",
       "Horsepower     0.823467      0.873758    1.000000  0.840811 -0.726670\n",
       "Weight         0.895220      0.932475    0.840811  1.000000 -0.787510\n",
       "MPG           -0.735563     -0.764277   -0.726670 -0.787510  1.000000"
      ]
     },
     "execution_count": 9,
     "metadata": {},
     "output_type": "execute_result"
    }
   ],
   "source": [
    "columns_with_correlation        #correlation matrix for +ve or -ve correlated variables based on the input threshold by the user "
   ]
  },
  {
   "cell_type": "markdown",
   "id": "c8854e2f",
   "metadata": {},
   "source": [
    "  "
   ]
  },
  {
   "cell_type": "markdown",
   "id": "545b3a43",
   "metadata": {},
   "source": [
    "**2 . Testing using some set of columns**"
   ]
  },
  {
   "cell_type": "code",
   "execution_count": 10,
   "id": "4c99f04f",
   "metadata": {},
   "outputs": [],
   "source": [
    "descreptive_stats = EDA.EDA(Data,             #dataset \n",
    "                        Descreptive_statistics_columns = [\"Cylinders\",\"Horsepower\",\"Displacement\"])  #set of columns"
   ]
  },
  {
   "cell_type": "code",
   "execution_count": 11,
   "id": "880ed636",
   "metadata": {},
   "outputs": [
    {
     "data": {
      "text/html": [
       "<div>\n",
       "<style scoped>\n",
       "    .dataframe tbody tr th:only-of-type {\n",
       "        vertical-align: middle;\n",
       "    }\n",
       "\n",
       "    .dataframe tbody tr th {\n",
       "        vertical-align: top;\n",
       "    }\n",
       "\n",
       "    .dataframe thead th {\n",
       "        text-align: right;\n",
       "    }\n",
       "</style>\n",
       "<table border=\"1\" class=\"dataframe\">\n",
       "  <thead>\n",
       "    <tr style=\"text-align: right;\">\n",
       "      <th></th>\n",
       "      <th>Cylinders</th>\n",
       "      <th>Horsepower</th>\n",
       "      <th>Displacement</th>\n",
       "    </tr>\n",
       "  </thead>\n",
       "  <tbody>\n",
       "    <tr>\n",
       "      <th>count</th>\n",
       "      <td>406.000000</td>\n",
       "      <td>406.000000</td>\n",
       "      <td>406.000000</td>\n",
       "    </tr>\n",
       "    <tr>\n",
       "      <th>mean</th>\n",
       "      <td>5.475369</td>\n",
       "      <td>103.529557</td>\n",
       "      <td>194.779557</td>\n",
       "    </tr>\n",
       "    <tr>\n",
       "      <th>std</th>\n",
       "      <td>1.712160</td>\n",
       "      <td>40.520659</td>\n",
       "      <td>104.922458</td>\n",
       "    </tr>\n",
       "    <tr>\n",
       "      <th>min</th>\n",
       "      <td>3.000000</td>\n",
       "      <td>0.000000</td>\n",
       "      <td>68.000000</td>\n",
       "    </tr>\n",
       "    <tr>\n",
       "      <th>25%</th>\n",
       "      <td>4.000000</td>\n",
       "      <td>75.000000</td>\n",
       "      <td>105.000000</td>\n",
       "    </tr>\n",
       "    <tr>\n",
       "      <th>50%</th>\n",
       "      <td>4.000000</td>\n",
       "      <td>93.500000</td>\n",
       "      <td>151.000000</td>\n",
       "    </tr>\n",
       "    <tr>\n",
       "      <th>75%</th>\n",
       "      <td>8.000000</td>\n",
       "      <td>129.000000</td>\n",
       "      <td>302.000000</td>\n",
       "    </tr>\n",
       "    <tr>\n",
       "      <th>max</th>\n",
       "      <td>8.000000</td>\n",
       "      <td>230.000000</td>\n",
       "      <td>455.000000</td>\n",
       "    </tr>\n",
       "  </tbody>\n",
       "</table>\n",
       "</div>"
      ],
      "text/plain": [
       "        Cylinders  Horsepower  Displacement\n",
       "count  406.000000  406.000000    406.000000\n",
       "mean     5.475369  103.529557    194.779557\n",
       "std      1.712160   40.520659    104.922458\n",
       "min      3.000000    0.000000     68.000000\n",
       "25%      4.000000   75.000000    105.000000\n",
       "50%      4.000000   93.500000    151.000000\n",
       "75%      8.000000  129.000000    302.000000\n",
       "max      8.000000  230.000000    455.000000"
      ]
     },
     "execution_count": 11,
     "metadata": {},
     "output_type": "execute_result"
    }
   ],
   "source": [
    "descreptive_stats"
   ]
  },
  {
   "cell_type": "markdown",
   "id": "b77249de",
   "metadata": {},
   "source": [
    " "
   ]
  },
  {
   "cell_type": "markdown",
   "id": "594dc99a",
   "metadata": {},
   "source": [
    "**3 . Testing using some set of columns and other parameters**"
   ]
  },
  {
   "cell_type": "code",
   "execution_count": 16,
   "id": "05a08a3a",
   "metadata": {},
   "outputs": [],
   "source": [
    "descreptive_stats, null_values, columns_with_correlation  = EDA.EDA(Data,             #dataset \n",
    "                                       Descreptive_statistics_columns = [\"Cylinders\",\"Weight\",\"Displacement\"],#set of columns\n",
    "                                       null_values = 1,                                             #checking for null values\n",
    "                                       columns_with_correlation=1)                            #checking for co-rrelation with \n",
    "                                                                                              #correlation coeffecient > 0.50"
   ]
  },
  {
   "cell_type": "code",
   "execution_count": 17,
   "id": "932aad93",
   "metadata": {},
   "outputs": [
    {
     "data": {
      "text/html": [
       "<div>\n",
       "<style scoped>\n",
       "    .dataframe tbody tr th:only-of-type {\n",
       "        vertical-align: middle;\n",
       "    }\n",
       "\n",
       "    .dataframe tbody tr th {\n",
       "        vertical-align: top;\n",
       "    }\n",
       "\n",
       "    .dataframe thead th {\n",
       "        text-align: right;\n",
       "    }\n",
       "</style>\n",
       "<table border=\"1\" class=\"dataframe\">\n",
       "  <thead>\n",
       "    <tr style=\"text-align: right;\">\n",
       "      <th></th>\n",
       "      <th>Cylinders</th>\n",
       "      <th>Weight</th>\n",
       "      <th>Displacement</th>\n",
       "    </tr>\n",
       "  </thead>\n",
       "  <tbody>\n",
       "    <tr>\n",
       "      <th>count</th>\n",
       "      <td>406.000000</td>\n",
       "      <td>406.000000</td>\n",
       "      <td>406.000000</td>\n",
       "    </tr>\n",
       "    <tr>\n",
       "      <th>mean</th>\n",
       "      <td>5.475369</td>\n",
       "      <td>2979.413793</td>\n",
       "      <td>194.779557</td>\n",
       "    </tr>\n",
       "    <tr>\n",
       "      <th>std</th>\n",
       "      <td>1.712160</td>\n",
       "      <td>847.004328</td>\n",
       "      <td>104.922458</td>\n",
       "    </tr>\n",
       "    <tr>\n",
       "      <th>min</th>\n",
       "      <td>3.000000</td>\n",
       "      <td>1613.000000</td>\n",
       "      <td>68.000000</td>\n",
       "    </tr>\n",
       "    <tr>\n",
       "      <th>25%</th>\n",
       "      <td>4.000000</td>\n",
       "      <td>2226.500000</td>\n",
       "      <td>105.000000</td>\n",
       "    </tr>\n",
       "    <tr>\n",
       "      <th>50%</th>\n",
       "      <td>4.000000</td>\n",
       "      <td>2822.500000</td>\n",
       "      <td>151.000000</td>\n",
       "    </tr>\n",
       "    <tr>\n",
       "      <th>75%</th>\n",
       "      <td>8.000000</td>\n",
       "      <td>3618.250000</td>\n",
       "      <td>302.000000</td>\n",
       "    </tr>\n",
       "    <tr>\n",
       "      <th>max</th>\n",
       "      <td>8.000000</td>\n",
       "      <td>5140.000000</td>\n",
       "      <td>455.000000</td>\n",
       "    </tr>\n",
       "  </tbody>\n",
       "</table>\n",
       "</div>"
      ],
      "text/plain": [
       "        Cylinders       Weight  Displacement\n",
       "count  406.000000   406.000000    406.000000\n",
       "mean     5.475369  2979.413793    194.779557\n",
       "std      1.712160   847.004328    104.922458\n",
       "min      3.000000  1613.000000     68.000000\n",
       "25%      4.000000  2226.500000    105.000000\n",
       "50%      4.000000  2822.500000    151.000000\n",
       "75%      8.000000  3618.250000    302.000000\n",
       "max      8.000000  5140.000000    455.000000"
      ]
     },
     "execution_count": 17,
     "metadata": {},
     "output_type": "execute_result"
    }
   ],
   "source": [
    "descreptive_stats   #Descreptive statistics for list of specified columns"
   ]
  },
  {
   "cell_type": "code",
   "execution_count": 18,
   "id": "03446aee",
   "metadata": {},
   "outputs": [
    {
     "data": {
      "text/plain": [
       "Cylinders       0\n",
       "Weight          0\n",
       "Displacement    0\n",
       "dtype: int64"
      ]
     },
     "execution_count": 18,
     "metadata": {},
     "output_type": "execute_result"
    }
   ],
   "source": [
    "null_values                 #null values for list of specified columns"
   ]
  },
  {
   "cell_type": "code",
   "execution_count": 19,
   "id": "38ec9191",
   "metadata": {},
   "outputs": [
    {
     "data": {
      "text/html": [
       "<div>\n",
       "<style scoped>\n",
       "    .dataframe tbody tr th:only-of-type {\n",
       "        vertical-align: middle;\n",
       "    }\n",
       "\n",
       "    .dataframe tbody tr th {\n",
       "        vertical-align: top;\n",
       "    }\n",
       "\n",
       "    .dataframe thead th {\n",
       "        text-align: right;\n",
       "    }\n",
       "</style>\n",
       "<table border=\"1\" class=\"dataframe\">\n",
       "  <thead>\n",
       "    <tr style=\"text-align: right;\">\n",
       "      <th></th>\n",
       "      <th>Weight</th>\n",
       "      <th>Displacement</th>\n",
       "      <th>Cylinders</th>\n",
       "    </tr>\n",
       "  </thead>\n",
       "  <tbody>\n",
       "    <tr>\n",
       "      <th>Weight</th>\n",
       "      <td>1.000000</td>\n",
       "      <td>0.932475</td>\n",
       "      <td>0.895220</td>\n",
       "    </tr>\n",
       "    <tr>\n",
       "      <th>Displacement</th>\n",
       "      <td>0.932475</td>\n",
       "      <td>1.000000</td>\n",
       "      <td>0.951787</td>\n",
       "    </tr>\n",
       "    <tr>\n",
       "      <th>Cylinders</th>\n",
       "      <td>0.895220</td>\n",
       "      <td>0.951787</td>\n",
       "      <td>1.000000</td>\n",
       "    </tr>\n",
       "  </tbody>\n",
       "</table>\n",
       "</div>"
      ],
      "text/plain": [
       "                Weight  Displacement  Cylinders\n",
       "Weight        1.000000      0.932475   0.895220\n",
       "Displacement  0.932475      1.000000   0.951787\n",
       "Cylinders     0.895220      0.951787   1.000000"
      ]
     },
     "execution_count": 19,
     "metadata": {},
     "output_type": "execute_result"
    }
   ],
   "source": [
    "columns_with_correlation    #correlation matrix for list of specified columns with correlation coeffecieant above 0.50"
   ]
  }
 ],
 "metadata": {
  "kernelspec": {
   "display_name": "Python 3",
   "language": "python",
   "name": "python3"
  },
  "language_info": {
   "codemirror_mode": {
    "name": "ipython",
    "version": 3
   },
   "file_extension": ".py",
   "mimetype": "text/x-python",
   "name": "python",
   "nbconvert_exporter": "python",
   "pygments_lexer": "ipython3",
   "version": "3.8.8"
  }
 },
 "nbformat": 4,
 "nbformat_minor": 5
}
